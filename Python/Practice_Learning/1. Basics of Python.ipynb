{
 "cells": [
  {
   "cell_type": "code",
   "execution_count": 1,
   "metadata": {},
   "outputs": [],
   "source": [
    "#keywords - reserved words\n",
    "\n",
    "#identifiers - \n",
    "# no spl chars except _ can be used\n",
    "# keyword =! identifier name\n",
    "# case sensitive, Var and var are 2 different meanings\n",
    "# 1st char not to be a digit\n",
    "\n",
    "#Literals\n",
    "# 4 types - string,numeric,boolean,special\n",
    "# \"James\" and 'James' both are correct\n",
    "# to get stuff in multilines - check multiline def"
   ]
  },
  {
   "cell_type": "code",
   "execution_count": 2,
   "metadata": {},
   "outputs": [],
   "source": [
    "#types of variables - Single and multiple\n",
    "\n",
    "# Single\n",
    "A=10\n",
    "name='Victor'\n",
    "salary=2000.23\n",
    "\n",
    "#multiple\n",
    "a=b=c=10\n",
    "x,y,z=10,20,30"
   ]
  },
  {
   "cell_type": "code",
   "execution_count": 3,
   "metadata": {},
   "outputs": [
    {
     "data": {
      "text/plain": [
       "20"
      ]
     },
     "execution_count": 3,
     "metadata": {},
     "output_type": "execute_result"
    }
   ],
   "source": [
    "y"
   ]
  },
  {
   "cell_type": "code",
   "execution_count": 4,
   "metadata": {},
   "outputs": [
    {
     "name": "stdout",
     "output_type": "stream",
     "text": [
      "str1\n",
      "str2\n",
      "str3\n",
      "...\n"
     ]
    },
    {
     "data": {
      "text/plain": [
       "str"
      ]
     },
     "execution_count": 4,
     "metadata": {},
     "output_type": "execute_result"
    }
   ],
   "source": [
    "multiline = '''str1\n",
    "str2\n",
    "str3\n",
    "...'''\n",
    "print(multiline)\n",
    "type(multiline)"
   ]
  },
  {
   "cell_type": "code",
   "execution_count": 5,
   "metadata": {},
   "outputs": [],
   "source": [
    "#Numeric Literals\n",
    "# Int - +ve and -ve nos with no fractional part\n",
    "# long - unltd integer followed by upper or lower L.\n",
    "# float - real nos with both integer and fractional part\n",
    "# complex - in form of a+bj or 3.21k+21j etc.,\n",
    "\n",
    "#Boolean Literals\n",
    "# has only yes or no, 0 or 1\n",
    "\n",
    "#Special Literals\n",
    "# python has one special literal: NONE\n",
    "# used to specify to the field that is not created"
   ]
  },
  {
   "cell_type": "code",
   "execution_count": null,
   "metadata": {},
   "outputs": [],
   "source": []
  }
 ],
 "metadata": {
  "kernelspec": {
   "display_name": "Python 3",
   "language": "python",
   "name": "python3"
  },
  "language_info": {
   "codemirror_mode": {
    "name": "ipython",
    "version": 3
   },
   "file_extension": ".py",
   "mimetype": "text/x-python",
   "name": "python",
   "nbconvert_exporter": "python",
   "pygments_lexer": "ipython3",
   "version": "3.8.5"
  }
 },
 "nbformat": 4,
 "nbformat_minor": 2
}
