{
 "cells": [
  {
   "cell_type": "markdown",
   "metadata": {},
   "source": [
    "#Numpy\n",
    "#Roll dice"
   ]
  },
  {
   "cell_type": "code",
   "execution_count": 1,
   "metadata": {},
   "outputs": [
    {
     "data": {
      "text/plain": [
       "6"
      ]
     },
     "execution_count": 1,
     "metadata": {},
     "output_type": "execute_result"
    }
   ],
   "source": [
    "import numpy as np\n",
    "rollArray = np.random.randint(low=1,high=7, size=1)\n",
    "diceRollNumber = rollArray[0]\n",
    "diceRollNumber"
   ]
  },
  {
   "cell_type": "code",
   "execution_count": 5,
   "metadata": {},
   "outputs": [
    {
     "name": "stdout",
     "output_type": "stream",
     "text": [
      " Type R for a Roll,Q/q to quit the game now :\n",
      "R\n",
      "The Dice Rolled :\n",
      "3\n",
      " Type R for a Roll,Q/q to quit the game now :\n",
      "R\n",
      "The Dice Rolled :\n",
      "2\n",
      " Type R for a Roll,Q/q to quit the game now :\n",
      "R\n",
      "The Dice Rolled :\n",
      "4\n",
      " Type R for a Roll,Q/q to quit the game now :\n",
      "R\n",
      "The Dice Rolled :\n",
      "6\n",
      " Type R for a Roll,Q/q to quit the game now :\n",
      "Q\n",
      "The rolls are:\n",
      "\n",
      "['3', '2', '4', '6']\n",
      "Game Ends\n"
     ]
    }
   ],
   "source": [
    "\n",
    "RollDiceFlag = True\n",
    "rolls=[]\n",
    "diceRollNumber = 0\n",
    "while RollDiceFlag:\n",
    "    Option = input(\" Type R for a Roll,Q/q to quit the game now :\\n\")\n",
    "    if Option!=\"Q\" and Option!=\"q\":\n",
    "        rollArray = np.random.randint(low=1,high=7, size=1)\n",
    "        diceRollNumber = str(rollArray[0])\n",
    "        rolls.append(diceRollNumber)\n",
    "        print(\"The Dice Rolled :\\n\"+ diceRollNumber)\n",
    "    else:\n",
    "        RollDiceFlag = False\n",
    "print(\"\\n\")\n",
    "print(\"The rolls are:\\n\")\n",
    "print(rolls)\n",
    "print(\"Game Ends\")\n",
    "    "
   ]
  },
  {
   "cell_type": "code",
   "execution_count": 52,
   "metadata": {},
   "outputs": [
    {
     "name": "stdout",
     "output_type": "stream",
     "text": [
      " Type R for a Roll,Q/q to quit the game nowr\n"
     ]
    }
   ],
   "source": [
    "Option = input(\" Type R for a Roll,Q/q to quit the game now\")\n"
   ]
  },
  {
   "cell_type": "code",
   "execution_count": 1,
   "metadata": {},
   "outputs": [
    {
     "name": "stdout",
     "output_type": "stream",
     "text": [
      " Type R for a Roll,Q/q to quit the game now :\n",
      "q\n",
      "Hello\n",
      " Type R for a Roll,Q/q to quit the game now :\n",
      "Q\n"
     ]
    }
   ],
   "source": [
    "RollDiceFlag = True\n",
    "rolls=[]\n",
    "diceRollNumber = 0\n",
    "while RollDiceFlag:\n",
    "    Option = input(\" Type R for a Roll,Q/q to quit the game now :\\n\")\n",
    "    if Option!=\"Q\":\n",
    "        print(\"Hello\")\n",
    "    else:\n",
    "        RollDiceFlag = False"
   ]
  },
  {
   "cell_type": "code",
   "execution_count": null,
   "metadata": {},
   "outputs": [],
   "source": []
  },
  {
   "cell_type": "code",
   "execution_count": null,
   "metadata": {},
   "outputs": [],
   "source": []
  }
 ],
 "metadata": {
  "kernelspec": {
   "display_name": "Python 3",
   "language": "python",
   "name": "python3"
  },
  "language_info": {
   "codemirror_mode": {
    "name": "ipython",
    "version": 3
   },
   "file_extension": ".py",
   "mimetype": "text/x-python",
   "name": "python",
   "nbconvert_exporter": "python",
   "pygments_lexer": "ipython3",
   "version": "3.8.5"
  }
 },
 "nbformat": 4,
 "nbformat_minor": 4
}
