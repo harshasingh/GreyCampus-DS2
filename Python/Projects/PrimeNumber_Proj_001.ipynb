{
 "cells": [
  {
   "cell_type": "markdown",
   "metadata": {},
   "source": [
    "# Create a program in Python, to check if a given number is prime.\n",
    "\n",
    "Name : Harsha Singh\n",
    "\n",
    "\n",
    "Date : 05.04.2021"
   ]
  },
  {
   "cell_type": "markdown",
   "metadata": {},
   "source": [
    "1. Add a function to take user input.\n",
    "\n",
    "2. Also must have a function where the number is predetermined.\n",
    "\n",
    "3. Use if...else\n",
    "\n",
    "4. Use loops (Which one? Its your job to think)\n",
    "\n",
    "5. If the number is prime or not should be printed as an output."
   ]
  },
  {
   "cell_type": "code",
   "execution_count": 1,
   "metadata": {},
   "outputs": [],
   "source": [
    "import random\n",
    "from math import sqrt"
   ]
  },
  {
   "cell_type": "code",
   "execution_count": 2,
   "metadata": {},
   "outputs": [],
   "source": [
    "#Function which takes User Input\n",
    "#Note User must enter a Valid Integer\n",
    "def getUserInput():\n",
    "    #Read input\n",
    "    num = input(\"Enter a Number to check for it's primality : \")\n",
    "    #If Number is a digit cast it to int and return else return 0 for any invalid inputs(Strings,chars,floats,negative numbers etc)\n",
    "    if num.isdigit():\n",
    "        return int(num)  #Convert to int to compute further\n",
    "    else:\n",
    "        print(num,\" is an invalid input\")\n",
    "        return 0"
   ]
  },
  {
   "cell_type": "code",
   "execution_count": 3,
   "metadata": {},
   "outputs": [],
   "source": [
    "#Function which generates a random predetermined Integer from range given\n",
    "def getPredeterminedInput():\n",
    "    #Generate a random integer\n",
    "    num = random.randint(1, 1000)\n",
    "    #Let's print the integer for predetermined case\n",
    "    print(\"The Random Integer picked from predetermined Range is :\",num)\n",
    "    return num"
   ]
  },
  {
   "cell_type": "code",
   "execution_count": 4,
   "metadata": {},
   "outputs": [],
   "source": [
    "#Function to check if a number is prime or not\n",
    "#For any prime number n we check if between 2 and squareroot(n) if any integer divisor exists the number is definitely prime\n",
    "# For Eg for 25 between 2 and sqrt(25)=5, we have 5 as it's divisor to conclude it is not a prime number\n",
    "def isPrime(num):\n",
    "    print(\"To find if \",num,\" is a Prime Number or not\")      \n",
    "    if num < 2:   #1 is a non-prime number so check if 1 came as input\n",
    "        return False\n",
    "    #Loop over 2 to squareroot(n)(inclusive) range and see if any of the numbers in this range is a divisor\n",
    "    for i in range(2, int(sqrt(num)) + 1):\n",
    "        if num % i == 0:\n",
    "            return False\n",
    "    #If no divisors found, conclude number is a prime number\n",
    "    return True"
   ]
  },
  {
   "cell_type": "code",
   "execution_count": 5,
   "metadata": {},
   "outputs": [],
   "source": [
    "#Main Function\n",
    "def main():\n",
    "    num=\"\"\n",
    "    while num == \"\":\n",
    "        #Fetch user entered input calling function\n",
    "        num = getUserInput()\n",
    "        #If an integral input invoke prime function to check primality\n",
    "        if num:\n",
    "            prime = isPrime(num)\n",
    "        #If invalid input entered by user fetch a predeterminedInput\n",
    "        else:\n",
    "            #Get a predetermined Integer from range\n",
    "            num = getPredeterminedInput()\n",
    "            #Check if prime or not\n",
    "            prime = isPrime(num)\n",
    "    #Checks if function isPrime evaluated the number as a prime number or not and print appropriately output\n",
    "    if prime:\n",
    "        print(num,\"is a prime Number!\")   #Prime\n",
    "    else:\n",
    "        print(num,\"is not a prime Number!\")  #Not Prime      "
   ]
  },
  {
   "cell_type": "code",
   "execution_count": 6,
   "metadata": {},
   "outputs": [
    {
     "name": "stdout",
     "output_type": "stream",
     "text": [
      "Enter a Number to check for it's primality : 97\n",
      "To find if  97  is a Prime Number or not\n",
      "97 is a prime Number!\n"
     ]
    }
   ],
   "source": [
    "#Prime Number Test\n",
    "main()"
   ]
  },
  {
   "cell_type": "code",
   "execution_count": 7,
   "metadata": {},
   "outputs": [
    {
     "name": "stdout",
     "output_type": "stream",
     "text": [
      "Enter a Number to check for it's primality : Harsha\n",
      "Harsha  is an invalid input\n",
      "The Random Integer picked from predetermined Range is : 385\n",
      "To find if  385  is a Prime Number or not\n",
      "385 is not a prime Number!\n"
     ]
    }
   ],
   "source": [
    "#String Input Test\n",
    "main()"
   ]
  },
  {
   "cell_type": "code",
   "execution_count": 8,
   "metadata": {},
   "outputs": [
    {
     "name": "stdout",
     "output_type": "stream",
     "text": [
      "Enter a Number to check for it's primality : 684\n",
      "To find if  684  is a Prime Number or not\n",
      "684 is not a prime Number!\n"
     ]
    }
   ],
   "source": [
    "#Positive Even Number\n",
    "main()"
   ]
  },
  {
   "cell_type": "code",
   "execution_count": 9,
   "metadata": {
    "scrolled": true
   },
   "outputs": [
    {
     "name": "stdout",
     "output_type": "stream",
     "text": [
      "Enter a Number to check for it's primality : -831\n",
      "-831  is an invalid input\n",
      "The Random Integer picked from predetermined Range is : 888\n",
      "To find if  888  is a Prime Number or not\n",
      "888 is not a prime Number!\n"
     ]
    }
   ],
   "source": [
    "#Negative Integer Unit Test\n",
    "main()"
   ]
  },
  {
   "cell_type": "code",
   "execution_count": 10,
   "metadata": {},
   "outputs": [
    {
     "name": "stdout",
     "output_type": "stream",
     "text": [
      "Enter a Number to check for it's primality : ?\n",
      "?  is an invalid input\n",
      "The Random Integer picked from predetermined Range is : 870\n",
      "To find if  870  is a Prime Number or not\n",
      "870 is not a prime Number!\n"
     ]
    }
   ],
   "source": [
    "#Special Char Unit Test\n",
    "main()"
   ]
  },
  {
   "cell_type": "markdown",
   "metadata": {},
   "source": [
    "The End"
   ]
  }
 ],
 "metadata": {
  "kernelspec": {
   "display_name": "Python 3",
   "language": "python",
   "name": "python3"
  },
  "language_info": {
   "codemirror_mode": {
    "name": "ipython",
    "version": 3
   },
   "file_extension": ".py",
   "mimetype": "text/x-python",
   "name": "python",
   "nbconvert_exporter": "python",
   "pygments_lexer": "ipython3",
   "version": "3.8.5"
  }
 },
 "nbformat": 4,
 "nbformat_minor": 4
}
